{
 "cells": [
  {
   "cell_type": "markdown",
   "metadata": {},
   "source": [
    "# Este Análisis Exploratorio de Datos (EDA) es solo de los \n",
    "# datos pertenecientes al Internet Fijo en Argentina 🎇"
   ]
  },
  {
   "cell_type": "code",
   "execution_count": 143,
   "metadata": {},
   "outputs": [],
   "source": [
    "# Importamos las librerías a usar\n",
    "import pandas as pd\n",
    "import matplotlib.pyplot as plt\n",
    "import numpy as np"
   ]
  },
  {
   "cell_type": "markdown",
   "metadata": {},
   "source": [
    "# ______________________________________________________________________________________"
   ]
  },
  {
   "cell_type": "markdown",
   "metadata": {},
   "source": [
    "# Archivo 1\n",
    "## Penetración por hogares a nivel nacional de Internet fijo\n",
    "**Se refiere al porcentaje de hogares en un país que tienen acceso o utilizan servicios de Internet fijo**"
   ]
  },
  {
   "cell_type": "code",
   "execution_count": 136,
   "metadata": {},
   "outputs": [
    {
     "data": {
      "text/html": [
       "<div>\n",
       "<style scoped>\n",
       "    .dataframe tbody tr th:only-of-type {\n",
       "        vertical-align: middle;\n",
       "    }\n",
       "\n",
       "    .dataframe tbody tr th {\n",
       "        vertical-align: top;\n",
       "    }\n",
       "\n",
       "    .dataframe thead th {\n",
       "        text-align: right;\n",
       "    }\n",
       "</style>\n",
       "<table border=\"1\" class=\"dataframe\">\n",
       "  <thead>\n",
       "    <tr style=\"text-align: right;\">\n",
       "      <th></th>\n",
       "      <th>Año</th>\n",
       "      <th>Trimestre</th>\n",
       "      <th>Accesos por cada 100 hogares</th>\n",
       "      <th>Accesos por cada 100 hab</th>\n",
       "      <th>Periodo</th>\n",
       "    </tr>\n",
       "  </thead>\n",
       "  <tbody>\n",
       "    <tr>\n",
       "      <th>0</th>\n",
       "      <td>2022</td>\n",
       "      <td>3</td>\n",
       "      <td>76.64</td>\n",
       "      <td>23.95</td>\n",
       "      <td>Jul-Sept 2022</td>\n",
       "    </tr>\n",
       "    <tr>\n",
       "      <th>1</th>\n",
       "      <td>2022</td>\n",
       "      <td>2</td>\n",
       "      <td>75.97</td>\n",
       "      <td>23.72</td>\n",
       "      <td>Abr-Jun 2022</td>\n",
       "    </tr>\n",
       "    <tr>\n",
       "      <th>2</th>\n",
       "      <td>2022</td>\n",
       "      <td>1</td>\n",
       "      <td>73.88</td>\n",
       "      <td>23.05</td>\n",
       "      <td>Ene-Mar 2022</td>\n",
       "    </tr>\n",
       "  </tbody>\n",
       "</table>\n",
       "</div>"
      ],
      "text/plain": [
       "    Año  Trimestre  Accesos por cada 100 hogares  Accesos por cada 100 hab   \n",
       "0  2022          3                         76.64                     23.95  \\\n",
       "1  2022          2                         75.97                     23.72   \n",
       "2  2022          1                         73.88                     23.05   \n",
       "\n",
       "         Periodo  \n",
       "0  Jul-Sept 2022  \n",
       "1   Abr-Jun 2022  \n",
       "2   Ene-Mar 2022  "
      ]
     },
     "execution_count": 136,
     "metadata": {},
     "output_type": "execute_result"
    }
   ],
   "source": [
    "internet_fijo = pd.read_csv('Sets/Fijo/inter_nac_fijo_clean.csv')\n",
    "internet_fijo.head(3) # Miramos las primeras 3 líneas"
   ]
  },
  {
   "cell_type": "code",
   "execution_count": 108,
   "metadata": {},
   "outputs": [
    {
     "name": "stdout",
     "output_type": "stream",
     "text": [
      "<class 'pandas.core.frame.DataFrame'>\n",
      "RangeIndex: 35 entries, 0 to 34\n",
      "Data columns (total 5 columns):\n",
      " #   Column                        Non-Null Count  Dtype  \n",
      "---  ------                        --------------  -----  \n",
      " 0   Año                           35 non-null     int64  \n",
      " 1   Trimestre                     35 non-null     int64  \n",
      " 2   Accesos por cada 100 hogares  35 non-null     float64\n",
      " 3   Accesos por cada 100 hab      35 non-null     float64\n",
      " 4   Periodo                       35 non-null     object \n",
      "dtypes: float64(2), int64(2), object(1)\n",
      "memory usage: 1.5+ KB\n"
     ]
    }
   ],
   "source": [
    "# Miramos los tipos de datos\n",
    "internet_fijo.info()"
   ]
  },
  {
   "cell_type": "code",
   "execution_count": 109,
   "metadata": {},
   "outputs": [],
   "source": [
    "# Convertimos las variables 'Año', 'Trimestre' y 'Periodo' a Category\n",
    "internet_fijo['Año'] = internet_fijo['Año'].astype('category')\n",
    "internet_fijo['Trimestre'] = internet_fijo['Trimestre'].astype('category')\n",
    "internet_fijo['Periodo'] = internet_fijo['Periodo'].astype('category')"
   ]
  },
  {
   "cell_type": "code",
   "execution_count": 110,
   "metadata": {},
   "outputs": [
    {
     "name": "stdout",
     "output_type": "stream",
     "text": [
      "<class 'pandas.core.frame.DataFrame'>\n",
      "RangeIndex: 35 entries, 0 to 34\n",
      "Data columns (total 5 columns):\n",
      " #   Column                        Non-Null Count  Dtype   \n",
      "---  ------                        --------------  -----   \n",
      " 0   Año                           35 non-null     category\n",
      " 1   Trimestre                     35 non-null     category\n",
      " 2   Accesos por cada 100 hogares  35 non-null     float64 \n",
      " 3   Accesos por cada 100 hab      35 non-null     float64 \n",
      " 4   Periodo                       35 non-null     category\n",
      "dtypes: category(3), float64(2)\n",
      "memory usage: 2.7 KB\n"
     ]
    }
   ],
   "source": [
    "# Verificamos el cambio\n",
    "internet_fijo.info()"
   ]
  },
  {
   "cell_type": "markdown",
   "metadata": {},
   "source": [
    "## ________________________________________________________________________________________________________\n",
    "## Empezamos con los gráficos 👨‍💻\n",
    "#### Para estos gráficos solo nos centraremos en las columnas:\n",
    "#### 1. 'Año'\n",
    "#### 2. 'Accesos por cada 100 hogares'\n",
    "#### 3. 'Accesos por cada 100 habitantes'"
   ]
  },
  {
   "cell_type": "code",
   "execution_count": 111,
   "metadata": {},
   "outputs": [
    {
     "data": {
      "image/png": "[encoded data removed]",
      "text/plain": [
       "<Figure size 640x480 with 1 Axes>"
      ]
     },
     "metadata": {},
     "output_type": "display_data"
    }
   ],
   "source": [
    "plt.rcParams['axes.facecolor'] = '#F1F0F5'\n",
    "plt.bar(internet_fijo['Año'],internet_fijo['Accesos por cada 100 hogares'], alpha=0.3, color='#FF7F0E')\n",
    "plt.ylabel('Porcentajes')\n",
    "plt.title('Accesos por cada 100 Hogares')\n",
    "plt.show()"
   ]
  },
  {
   "cell_type": "code",
   "execution_count": 112,
   "metadata": {},
   "outputs": [
    {
     "data": {
      "image/png": "[encoded data removed]",
      "text/plain": [
       "<Figure size 640x480 with 1 Axes>"
      ]
     },
     "metadata": {},
     "output_type": "display_data"
    }
   ],
   "source": [
    "plt.rcParams['axes.facecolor'] = '#F1F0F5'\n",
    "plt.bar(internet_fijo['Año'],internet_fijo['Accesos por cada 100 hab'], alpha=0.3, color='#FF7F0E')\n",
    "plt.ylabel('Porcentajes')\n",
    "plt.title('Accesos por cada 100 Habitantes')\n",
    "plt.show()"
   ]
  },
  {
   "cell_type": "code",
   "execution_count": null,
   "metadata": {},
   "outputs": [],
   "source": [
    "'''internet_fijo = internet_fijo.sort_values(by='Año')\n",
    "internet_fijo['Crecimiento (%)'] = internet_fijo['Accesos por cada 100 hogares'].pct_change() * 100\n",
    "print(internet_fijo[['Año', 'Accesos por cada 100 hogares', 'Crecimiento (%)']])\n",
    "'''\n",
    "# Este código los agrupa por trimestre"
   ]
  },
  {
   "cell_type": "markdown",
   "metadata": {},
   "source": [
    "Se calcula el crecimiento anual"
   ]
  },
  {
   "cell_type": "code",
   "execution_count": 114,
   "metadata": {},
   "outputs": [
    {
     "data": {
      "text/html": [
       "<div>\n",
       "<style scoped>\n",
       "    .dataframe tbody tr th:only-of-type {\n",
       "        vertical-align: middle;\n",
       "    }\n",
       "\n",
       "    .dataframe tbody tr th {\n",
       "        vertical-align: top;\n",
       "    }\n",
       "\n",
       "    .dataframe thead th {\n",
       "        text-align: right;\n",
       "    }\n",
       "</style>\n",
       "<table border=\"1\" class=\"dataframe\">\n",
       "  <thead>\n",
       "    <tr style=\"text-align: right;\">\n",
       "      <th></th>\n",
       "      <th>Crecimiento anual %</th>\n",
       "    </tr>\n",
       "    <tr>\n",
       "      <th>Año</th>\n",
       "      <th></th>\n",
       "    </tr>\n",
       "  </thead>\n",
       "  <tbody>\n",
       "    <tr>\n",
       "      <th>2014</th>\n",
       "      <td>NaN</td>\n",
       "    </tr>\n",
       "    <tr>\n",
       "      <th>2015</th>\n",
       "      <td>4.22</td>\n",
       "    </tr>\n",
       "    <tr>\n",
       "      <th>2016</th>\n",
       "      <td>2.49</td>\n",
       "    </tr>\n",
       "    <tr>\n",
       "      <th>2017</th>\n",
       "      <td>7.12</td>\n",
       "    </tr>\n",
       "    <tr>\n",
       "      <th>2018</th>\n",
       "      <td>6.30</td>\n",
       "    </tr>\n",
       "    <tr>\n",
       "      <th>2019</th>\n",
       "      <td>2.44</td>\n",
       "    </tr>\n",
       "    <tr>\n",
       "      <th>2020</th>\n",
       "      <td>7.47</td>\n",
       "    </tr>\n",
       "    <tr>\n",
       "      <th>2021</th>\n",
       "      <td>8.22</td>\n",
       "    </tr>\n",
       "    <tr>\n",
       "      <th>2022</th>\n",
       "      <td>4.73</td>\n",
       "    </tr>\n",
       "  </tbody>\n",
       "</table>\n",
       "</div>"
      ],
      "text/plain": [
       "      Crecimiento anual %\n",
       "Año                      \n",
       "2014                  NaN\n",
       "2015                 4.22\n",
       "2016                 2.49\n",
       "2017                 7.12\n",
       "2018                 6.30\n",
       "2019                 2.44\n",
       "2020                 7.47\n",
       "2021                 8.22\n",
       "2022                 4.73"
      ]
     },
     "execution_count": 114,
     "metadata": {},
     "output_type": "execute_result"
    }
   ],
   "source": [
    "df_grouped = internet_fijo.groupby('Año').agg({'Accesos por cada 100 hogares': 'first'}).pct_change() * 100\n",
    "df_grouped = df_grouped.round(2)\n",
    "df_grouped = df_grouped.rename(columns={'Accesos por cada 100 hogares': 'Crecimiento anual %'})\n",
    "df_grouped"
   ]
  },
  {
   "cell_type": "markdown",
   "metadata": {},
   "source": [
    "Se calcula el promedio del crecimiento anual"
   ]
  },
  {
   "cell_type": "code",
   "execution_count": 115,
   "metadata": {},
   "outputs": [
    {
     "name": "stdout",
     "output_type": "stream",
     "text": [
      "5.37\n"
     ]
    }
   ],
   "source": [
    "print(df_grouped['Crecimiento anual %'].mean().round(2))"
   ]
  },
  {
   "cell_type": "markdown",
   "metadata": {},
   "source": [
    "Se calcula la variabilidad del crecimiento anual"
   ]
  },
  {
   "cell_type": "code",
   "execution_count": 154,
   "metadata": {},
   "outputs": [
    {
     "data": {
      "text/plain": [
       "2.24"
      ]
     },
     "execution_count": 154,
     "metadata": {},
     "output_type": "execute_result"
    }
   ],
   "source": [
    "desviacion_estandar = df_grouped['Crecimiento anual %'].std().round(2)\n",
    "desviacion_estandar"
   ]
  },
  {
   "cell_type": "markdown",
   "metadata": {},
   "source": [
    "## Análisis 📑\n",
    "#### 1. Los datos muestran una tendencia de crecimiento en el acceso a Internet por cada 100 hogares a lo largo del tiempo. \n",
    "#### 2. La tendencia indica que para el año 2,023 seguirá creciendo en promedio un 5.37%\n",
    "#### 3. Variabilidad del crecimiento: La desviación estándar del crecimiento anual de los accesos a Internet en Argentina es de aproximadamente 2.24 %. Esto indica que hay una cierta variabilidad en el crecimiento año tras año\n",
    "\n",
    "### **Estos datos muestran que Argentina, con el pasar de los años y el avance de la tecnología, cada vez los hogares van adoptando el Internet fijo.**\n",
    "\n",
    "### **Estas observaciones proporcionan una visión general del panorama de los accesos a Internet en Argentina desde el año 2,014 hasta el 2,022.**"
   ]
  },
  {
   "cell_type": "markdown",
   "metadata": {},
   "source": [
    "# _____________________________________________________________________________________\n",
    "# Archivo 2\n",
    "## Penetración de Internet fijo (accesos por cada 100 hogares)\n",
    "**Se refiere al número de conexiones o accesos al servicio de Internet fijo que existen en una provincia en relación con cada 100 hogares en esa provincia**\n",
    "\n",
    "**Este indicador proporciona una medida de la disponibilidad y adopción de Internet fijo a nivel provincial**"
   ]
  },
  {
   "cell_type": "code",
   "execution_count": 117,
   "metadata": {},
   "outputs": [
    {
     "data": {
      "text/html": [
       "<div>\n",
       "<style scoped>\n",
       "    .dataframe tbody tr th:only-of-type {\n",
       "        vertical-align: middle;\n",
       "    }\n",
       "\n",
       "    .dataframe tbody tr th {\n",
       "        vertical-align: top;\n",
       "    }\n",
       "\n",
       "    .dataframe thead th {\n",
       "        text-align: right;\n",
       "    }\n",
       "</style>\n",
       "<table border=\"1\" class=\"dataframe\">\n",
       "  <thead>\n",
       "    <tr style=\"text-align: right;\">\n",
       "      <th></th>\n",
       "      <th>Año</th>\n",
       "      <th>Trimestre</th>\n",
       "      <th>Provincia</th>\n",
       "      <th>Accesos por cada 100 hogares</th>\n",
       "    </tr>\n",
       "  </thead>\n",
       "  <tbody>\n",
       "    <tr>\n",
       "      <th>0</th>\n",
       "      <td>2022</td>\n",
       "      <td>3</td>\n",
       "      <td>Buenos Aires</td>\n",
       "      <td>78.11</td>\n",
       "    </tr>\n",
       "    <tr>\n",
       "      <th>1</th>\n",
       "      <td>2022</td>\n",
       "      <td>3</td>\n",
       "      <td>Capital Federal</td>\n",
       "      <td>122.28</td>\n",
       "    </tr>\n",
       "    <tr>\n",
       "      <th>2</th>\n",
       "      <td>2022</td>\n",
       "      <td>3</td>\n",
       "      <td>Catamarca</td>\n",
       "      <td>65.33</td>\n",
       "    </tr>\n",
       "    <tr>\n",
       "      <th>3</th>\n",
       "      <td>2022</td>\n",
       "      <td>3</td>\n",
       "      <td>Chaco</td>\n",
       "      <td>43.86</td>\n",
       "    </tr>\n",
       "    <tr>\n",
       "      <th>4</th>\n",
       "      <td>2022</td>\n",
       "      <td>3</td>\n",
       "      <td>Chubut</td>\n",
       "      <td>84.38</td>\n",
       "    </tr>\n",
       "  </tbody>\n",
       "</table>\n",
       "</div>"
      ],
      "text/plain": [
       "    Año  Trimestre        Provincia  Accesos por cada 100 hogares\n",
       "0  2022          3     Buenos Aires                         78.11\n",
       "1  2022          3  Capital Federal                        122.28\n",
       "2  2022          3        Catamarca                         65.33\n",
       "3  2022          3            Chaco                         43.86\n",
       "4  2022          3           Chubut                         84.38"
      ]
     },
     "execution_count": 117,
     "metadata": {},
     "output_type": "execute_result"
    }
   ],
   "source": [
    "# Cargamos los datos\n",
    "fijo_provincia = pd.read_csv('Sets/Fijo/inter_100_hogares_clean.csv')\n",
    "fijo_provincia.head()"
   ]
  },
  {
   "cell_type": "code",
   "execution_count": 118,
   "metadata": {},
   "outputs": [
    {
     "name": "stdout",
     "output_type": "stream",
     "text": [
      "<class 'pandas.core.frame.DataFrame'>\n",
      "RangeIndex: 840 entries, 0 to 839\n",
      "Data columns (total 4 columns):\n",
      " #   Column                        Non-Null Count  Dtype  \n",
      "---  ------                        --------------  -----  \n",
      " 0   Año                           840 non-null    int64  \n",
      " 1   Trimestre                     840 non-null    int64  \n",
      " 2   Provincia                     840 non-null    object \n",
      " 3   Accesos por cada 100 hogares  840 non-null    float64\n",
      "dtypes: float64(1), int64(2), object(1)\n",
      "memory usage: 26.4+ KB\n"
     ]
    }
   ],
   "source": [
    "# Miramos los tipos de datos\n",
    "fijo_provincia.info()"
   ]
  },
  {
   "cell_type": "code",
   "execution_count": 119,
   "metadata": {},
   "outputs": [],
   "source": [
    "# Convertimos las variables 'Año', 'Trimestre' y 'Periodo' a Category\n",
    "fijo_provincia['Año'] = fijo_provincia['Año'].astype('category')\n",
    "fijo_provincia['Trimestre'] = fijo_provincia['Trimestre'].astype('category')\n",
    "fijo_provincia['Provincia'] = fijo_provincia['Provincia'].astype('category')"
   ]
  },
  {
   "cell_type": "code",
   "execution_count": 120,
   "metadata": {},
   "outputs": [
    {
     "name": "stdout",
     "output_type": "stream",
     "text": [
      "<class 'pandas.core.frame.DataFrame'>\n",
      "RangeIndex: 840 entries, 0 to 839\n",
      "Data columns (total 4 columns):\n",
      " #   Column                        Non-Null Count  Dtype   \n",
      "---  ------                        --------------  -----   \n",
      " 0   Año                           840 non-null    category\n",
      " 1   Trimestre                     840 non-null    category\n",
      " 2   Provincia                     840 non-null    category\n",
      " 3   Accesos por cada 100 hogares  840 non-null    float64 \n",
      "dtypes: category(3), float64(1)\n",
      "memory usage: 10.4 KB\n"
     ]
    }
   ],
   "source": [
    "# Miramos los cambios\n",
    "fijo_provincia.info()"
   ]
  },
  {
   "cell_type": "markdown",
   "metadata": {},
   "source": [
    "## ________________________________________________________________________________________________________\n",
    "## Empezamos con los gráficos 👨‍💻\n",
    "#### Para estos gráficos solo nos centraremos en las columnas:\n",
    "#### 1. 'Año'\n",
    "#### 2. 'Provincia'\n",
    "#### 3. 'Accesos por cada 100 hogares'"
   ]
  },
  {
   "cell_type": "code",
   "execution_count": 121,
   "metadata": {},
   "outputs": [
    {
     "data": {
      "image/png": "[encoded data removed]",
      "text/plain": [
       "<Figure size 640x480 with 1 Axes>"
      ]
     },
     "metadata": {},
     "output_type": "display_data"
    }
   ],
   "source": [
    "plt.rcParams['axes.facecolor'] = '#F1F0F5'\n",
    "plt.bar(fijo_provincia['Año'],fijo_provincia['Accesos por cada 100 hogares'], alpha=0.3, color='#FF7F0E')\n",
    "plt.ylabel('Porcentajes')\n",
    "plt.title('Conexiones a Internet por cada 100 Hogares')\n",
    "plt.show()"
   ]
  },
  {
   "cell_type": "code",
   "execution_count": 122,
   "metadata": {},
   "outputs": [
    {
     "data": {
      "image/png": "[encoded data removed]",
      "text/plain": [
       "<Figure size 640x480 with 1 Axes>"
      ]
     },
     "metadata": {},
     "output_type": "display_data"
    }
   ],
   "source": [
    "plt.rcParams['axes.facecolor'] = '#F1F0F5'\n",
    "plt.bar(fijo_provincia['Provincia'],fijo_provincia['Accesos por cada 100 hogares'], alpha=0.3, color='#FF7F0E')\n",
    "plt.xticks(rotation=45, ha='right')\n",
    "plt.title('Conexiones a Internet por Provincia')\n",
    "plt.show()"
   ]
  },
  {
   "cell_type": "code",
   "execution_count": 123,
   "metadata": {},
   "outputs": [
    {
     "data": {
      "text/html": [
       "<div>\n",
       "<style scoped>\n",
       "    .dataframe tbody tr th:only-of-type {\n",
       "        vertical-align: middle;\n",
       "    }\n",
       "\n",
       "    .dataframe tbody tr th {\n",
       "        vertical-align: top;\n",
       "    }\n",
       "\n",
       "    .dataframe thead th {\n",
       "        text-align: right;\n",
       "    }\n",
       "</style>\n",
       "<table border=\"1\" class=\"dataframe\">\n",
       "  <thead>\n",
       "    <tr style=\"text-align: right;\">\n",
       "      <th></th>\n",
       "      <th>Crecimiento anual %</th>\n",
       "    </tr>\n",
       "    <tr>\n",
       "      <th>Año</th>\n",
       "      <th></th>\n",
       "    </tr>\n",
       "  </thead>\n",
       "  <tbody>\n",
       "    <tr>\n",
       "      <th>2014</th>\n",
       "      <td>NaN</td>\n",
       "    </tr>\n",
       "    <tr>\n",
       "      <th>2015</th>\n",
       "      <td>3.92</td>\n",
       "    </tr>\n",
       "    <tr>\n",
       "      <th>2016</th>\n",
       "      <td>5.06</td>\n",
       "    </tr>\n",
       "    <tr>\n",
       "      <th>2017</th>\n",
       "      <td>-5.93</td>\n",
       "    </tr>\n",
       "    <tr>\n",
       "      <th>2018</th>\n",
       "      <td>12.13</td>\n",
       "    </tr>\n",
       "    <tr>\n",
       "      <th>2019</th>\n",
       "      <td>-0.54</td>\n",
       "    </tr>\n",
       "    <tr>\n",
       "      <th>2020</th>\n",
       "      <td>7.36</td>\n",
       "    </tr>\n",
       "    <tr>\n",
       "      <th>2021</th>\n",
       "      <td>9.68</td>\n",
       "    </tr>\n",
       "    <tr>\n",
       "      <th>2022</th>\n",
       "      <td>3.24</td>\n",
       "    </tr>\n",
       "  </tbody>\n",
       "</table>\n",
       "</div>"
      ],
      "text/plain": [
       "      Crecimiento anual %\n",
       "Año                      \n",
       "2014                  NaN\n",
       "2015                 3.92\n",
       "2016                 5.06\n",
       "2017                -5.93\n",
       "2018                12.13\n",
       "2019                -0.54\n",
       "2020                 7.36\n",
       "2021                 9.68\n",
       "2022                 3.24"
      ]
     },
     "execution_count": 123,
     "metadata": {},
     "output_type": "execute_result"
    }
   ],
   "source": [
    "df_fijo = fijo_provincia.groupby('Año').agg({'Accesos por cada 100 hogares': 'first'}).pct_change() * 100\n",
    "df_fijo = df_fijo.round(2)\n",
    "df_fijo = df_fijo.rename(columns={'Accesos por cada 100 hogares': 'Crecimiento anual %'})\n",
    "df_fijo"
   ]
  },
  {
   "cell_type": "code",
   "execution_count": 124,
   "metadata": {},
   "outputs": [
    {
     "name": "stdout",
     "output_type": "stream",
     "text": [
      "4.36\n"
     ]
    }
   ],
   "source": [
    "# Calculamos el promedio del Crecimiendo Anual\n",
    "print(df_fijo['Crecimiento anual %'].mean().round(2))"
   ]
  },
  {
   "cell_type": "code",
   "execution_count": 125,
   "metadata": {},
   "outputs": [
    {
     "data": {
      "text/plain": [
       "5.73"
      ]
     },
     "execution_count": 125,
     "metadata": {},
     "output_type": "execute_result"
    }
   ],
   "source": [
    "# Miramos la Variabilidad\n",
    "desviacion_estandar_fijo = df_fijo['Crecimiento anual %'].std().round(2)\n",
    "desviacion_estandar_fijo"
   ]
  },
  {
   "cell_type": "markdown",
   "metadata": {},
   "source": [
    "## Análisis 📑\n",
    "#### 1. En general, el acceso a Internet por cada 100 hogares ha ido aumentando a lo largo de los años. \n",
    "#### Esto indica un crecimiento en la disponibilidad y acceso a servicios de Internet en las provincias.\n",
    "#### 2. Todas las provincias muestran un aumento con respecto al año anterior, aunque algunas están sobre el promedio y otras por debajo, esto se puede deber a la infraestructura de cada provincia, inversión en telecomunicaciones, entre otros.\n",
    "#### 3. En promedio las provincias crecen un 4.36 % año con año.\n",
    "#### 4. Variabilidad del crecimiento: La desviación estándar del crecimiento anual de los accesos a Internet en Argentina es de aproximadamente 5.73 %. Esto indica que hay una cierta variabilidad en el crecimiento año tras año.\n",
    "\n",
    "### **Estas observaciones proporcionan una visión general del panorama de los accesos a Internet en las provincias de Argentina desde el año 2,014 hasta el 2,022.**"
   ]
  },
  {
   "cell_type": "markdown",
   "metadata": {},
   "source": [
    "# _______________________________________________________________________________________\n",
    "# Archivo 3\n",
    "## Ingresos por la prestación del servicio de Internet fijo"
   ]
  },
  {
   "cell_type": "code",
   "execution_count": 140,
   "metadata": {},
   "outputs": [
    {
     "data": {
      "text/html": [
       "<div>\n",
       "<style scoped>\n",
       "    .dataframe tbody tr th:only-of-type {\n",
       "        vertical-align: middle;\n",
       "    }\n",
       "\n",
       "    .dataframe tbody tr th {\n",
       "        vertical-align: top;\n",
       "    }\n",
       "\n",
       "    .dataframe thead th {\n",
       "        text-align: right;\n",
       "    }\n",
       "</style>\n",
       "<table border=\"1\" class=\"dataframe\">\n",
       "  <thead>\n",
       "    <tr style=\"text-align: right;\">\n",
       "      <th></th>\n",
       "      <th>Año</th>\n",
       "      <th>Trimestre</th>\n",
       "      <th>Ingreso en miles</th>\n",
       "      <th>Periodo</th>\n",
       "    </tr>\n",
       "  </thead>\n",
       "  <tbody>\n",
       "    <tr>\n",
       "      <th>0</th>\n",
       "      <td>2022</td>\n",
       "      <td>3</td>\n",
       "      <td>67,055,930</td>\n",
       "      <td>Jul-Sept 2022</td>\n",
       "    </tr>\n",
       "    <tr>\n",
       "      <th>1</th>\n",
       "      <td>2022</td>\n",
       "      <td>2</td>\n",
       "      <td>60,335,724</td>\n",
       "      <td>Abr-Jun 2022</td>\n",
       "    </tr>\n",
       "    <tr>\n",
       "      <th>2</th>\n",
       "      <td>2022</td>\n",
       "      <td>1</td>\n",
       "      <td>55,589,997</td>\n",
       "      <td>Ene-Mar 2022</td>\n",
       "    </tr>\n",
       "    <tr>\n",
       "      <th>3</th>\n",
       "      <td>2021</td>\n",
       "      <td>4</td>\n",
       "      <td>45,467,887</td>\n",
       "      <td>Oct-Dic 2021</td>\n",
       "    </tr>\n",
       "    <tr>\n",
       "      <th>4</th>\n",
       "      <td>2021</td>\n",
       "      <td>3</td>\n",
       "      <td>42,999,944</td>\n",
       "      <td>Jul-Sept 2021</td>\n",
       "    </tr>\n",
       "  </tbody>\n",
       "</table>\n",
       "</div>"
      ],
      "text/plain": [
       "    Año  Trimestre Ingreso en miles        Periodo\n",
       "0  2022          3       67,055,930  Jul-Sept 2022\n",
       "1  2022          2       60,335,724   Abr-Jun 2022\n",
       "2  2022          1       55,589,997   Ene-Mar 2022\n",
       "3  2021          4       45,467,887   Oct-Dic 2021\n",
       "4  2021          3       42,999,944  Jul-Sept 2021"
      ]
     },
     "execution_count": 140,
     "metadata": {},
     "output_type": "execute_result"
    }
   ],
   "source": [
    "# Cargamos el archivo\n",
    "ingresos = pd.read_csv('Sets/Fijo/Ingresos_Internet_Fijo.csv')\n",
    "ingresos.head()"
   ]
  },
  {
   "cell_type": "code",
   "execution_count": 141,
   "metadata": {},
   "outputs": [],
   "source": [
    "# Pasamos las columnas Año y Trimestre a tipo de dato Categótico\n",
    "ingresos['Año'] = ingresos['Año'].astype('category')\n",
    "ingresos['Trimestre'] = ingresos['Trimestre'].astype('category')"
   ]
  },
  {
   "cell_type": "code",
   "execution_count": 147,
   "metadata": {},
   "outputs": [],
   "source": [
    "# Reemplazamos en la columna 'Ingreso en miles' la ',' para que quede vacía\n",
    "# y así poder convertirla en dato Float\n",
    "ingresos['Ingreso en miles'] = ingresos['Ingreso en miles'].str.replace(',', '').astype(float)"
   ]
  },
  {
   "cell_type": "code",
   "execution_count": 150,
   "metadata": {},
   "outputs": [
    {
     "data": {
      "image/png": "[encoded data removed]",
      "text/plain": [
       "<Figure size 640x480 with 1 Axes>"
      ]
     },
     "metadata": {},
     "output_type": "display_data"
    }
   ],
   "source": [
    "plt.rcParams['axes.facecolor'] = '#F1F0F5'\n",
    "plt.bar(ingresos['Año'],ingresos['Ingreso en miles'], alpha=0.3, color='#FF7F0E')\n",
    "plt.title('Crecimiento de los ingresos')\n",
    "plt.tick_params(axis='y', labelleft=False)\n",
    "plt.show()"
   ]
  },
  {
   "cell_type": "code",
   "execution_count": 149,
   "metadata": {},
   "outputs": [
    {
     "data": {
      "text/html": [
       "<div>\n",
       "<style scoped>\n",
       "    .dataframe tbody tr th:only-of-type {\n",
       "        vertical-align: middle;\n",
       "    }\n",
       "\n",
       "    .dataframe tbody tr th {\n",
       "        vertical-align: top;\n",
       "    }\n",
       "\n",
       "    .dataframe thead th {\n",
       "        text-align: right;\n",
       "    }\n",
       "</style>\n",
       "<table border=\"1\" class=\"dataframe\">\n",
       "  <thead>\n",
       "    <tr style=\"text-align: right;\">\n",
       "      <th></th>\n",
       "      <th>Crecimiento anual %</th>\n",
       "    </tr>\n",
       "    <tr>\n",
       "      <th>Año</th>\n",
       "      <th></th>\n",
       "    </tr>\n",
       "  </thead>\n",
       "  <tbody>\n",
       "    <tr>\n",
       "      <th>2014</th>\n",
       "      <td>NaN</td>\n",
       "    </tr>\n",
       "    <tr>\n",
       "      <th>2015</th>\n",
       "      <td>36.11</td>\n",
       "    </tr>\n",
       "    <tr>\n",
       "      <th>2016</th>\n",
       "      <td>39.19</td>\n",
       "    </tr>\n",
       "    <tr>\n",
       "      <th>2017</th>\n",
       "      <td>50.00</td>\n",
       "    </tr>\n",
       "    <tr>\n",
       "      <th>2018</th>\n",
       "      <td>48.21</td>\n",
       "    </tr>\n",
       "    <tr>\n",
       "      <th>2019</th>\n",
       "      <td>45.27</td>\n",
       "    </tr>\n",
       "    <tr>\n",
       "      <th>2020</th>\n",
       "      <td>38.77</td>\n",
       "    </tr>\n",
       "    <tr>\n",
       "      <th>2021</th>\n",
       "      <td>35.56</td>\n",
       "    </tr>\n",
       "    <tr>\n",
       "      <th>2022</th>\n",
       "      <td>47.48</td>\n",
       "    </tr>\n",
       "  </tbody>\n",
       "</table>\n",
       "</div>"
      ],
      "text/plain": [
       "      Crecimiento anual %\n",
       "Año                      \n",
       "2014                  NaN\n",
       "2015                36.11\n",
       "2016                39.19\n",
       "2017                50.00\n",
       "2018                48.21\n",
       "2019                45.27\n",
       "2020                38.77\n",
       "2021                35.56\n",
       "2022                47.48"
      ]
     },
     "execution_count": 149,
     "metadata": {},
     "output_type": "execute_result"
    }
   ],
   "source": [
    "inge = ingresos.groupby('Año').agg({'Ingreso en miles': 'first'}).pct_change() * 100\n",
    "inge = inge.round(2)\n",
    "inge = inge.rename(columns={'Ingreso en miles': 'Crecimiento anual %'})\n",
    "inge"
   ]
  },
  {
   "cell_type": "code",
   "execution_count": 135,
   "metadata": {},
   "outputs": [
    {
     "name": "stdout",
     "output_type": "stream",
     "text": [
      "42.57\n"
     ]
    }
   ],
   "source": [
    "# Calculamos el promedio del Crecimiendo Anual\n",
    "print(inge['Crecimiento anual %'].mean().round(2))"
   ]
  },
  {
   "cell_type": "code",
   "execution_count": 139,
   "metadata": {},
   "outputs": [
    {
     "data": {
      "text/plain": [
       "5.8"
      ]
     },
     "execution_count": 139,
     "metadata": {},
     "output_type": "execute_result"
    }
   ],
   "source": [
    "# Miramos la Variabilidad\n",
    "desviacion_estandar_inge = inge['Crecimiento anual %'].std().round(2)\n",
    "desviacion_estandar_inge"
   ]
  },
  {
   "cell_type": "markdown",
   "metadata": {},
   "source": [
    "## _______________________________________________________________________________________________\n",
    "## Análisis 📑\n",
    "#### 1. En general, hay un crecimiento constante en los ingresos a lo largo del tiempo, con un aumento más pronunciado en los últimos años. \n",
    "#### 2. En los primeros años (2014-2016), los ingresos se mantienen en un rango bajo. \n",
    "#### El 2,015 con crecimiento del 36.11 % y el 2,016 con 39.19 %\n",
    "#### 3. A partir de 2017, los ingresos experimentan un crecimiento más acelerado con un crecimiento del 50 %\n",
    "#### 3. En el 2,022 se observa un aumento considerable en los ingresos con un 47.48 %\n",
    "#### 4. La tendencia indica que el 2,023 tendrá un promedio de crecimiento en los ingresos del 42.57 %\n",
    "#### 5. El crecimiento del 42.57 % puede tener una variabilidad del 5.8 % \n",
    "\n",
    "### **Los ingresos han casi duplicado su valor desde 2014.**\n",
    "### **En general se observa una tendencia positiva de crecimiento a lo largo de los años.**"
   ]
  }
 ],
 "metadata": {
  "kernelspec": {
   "display_name": "Python 3",
   "language": "python",
   "name": "python3"
  },
  "language_info": {
   "codemirror_mode": {
    "name": "ipython",
    "version": 3
   },
   "file_extension": ".py",
   "mimetype": "text/x-python",
   "name": "python",
   "nbconvert_exporter": "python",
   "pygments_lexer": "ipython3",
   "version": "3.11.3"
  },
  "orig_nbformat": 4
 },
 "nbformat": 4,
 "nbformat_minor": 2
}
